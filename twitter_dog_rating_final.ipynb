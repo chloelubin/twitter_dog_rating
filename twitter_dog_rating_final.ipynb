{
 "cells": [
  {
   "cell_type": "markdown",
   "metadata": {},
   "source": [
    "# Twitter Dog Rating Project"
   ]
  },
  {
   "cell_type": "markdown",
   "metadata": {},
   "source": [
    "## Table of Contents:\n",
    "\n",
    "\n",
    "- [Introduction](#intro)\n",
    "- [Part I - Wrangling the data](#data_wrangling)\n",
    "    - [a. Gathering](#gathering)\n",
    "    - [b. Assessing](#assessing)\n",
    "    - [c. Cleaning](#cleaning)\n",
    "    - [e. Exploring](#exploring)\n",
    "- [Part II - Sentiment Analysis of `@dog_rates` tweets](#sentiment_analysis)\n",
    "- [Conclusion](#conclusion)"
   ]
  },
  {
   "cell_type": "markdown",
   "metadata": {},
   "source": [
    "<a id='intro'></a>\n",
    "## Introduction"
   ]
  },
  {
   "cell_type": "markdown",
   "metadata": {},
   "source": [
    "[#WeRateDogs](https://twitter.com/dog_rates) became an Internet sensation since the inception of the account in November 2015. It is a Twitter account that rates people's dogs on an unconventional scale and with a lot of humor. Known for its unique dog rating system and the creative dog \"stages\" (floofer, doggo, pupper, puppo, blep, snoot), it has gained incredible notoriaty and now counts 8.7 million followers on Twitter. It even led to the publication of a book in 2017, ['#WeRateDogs: The Most Hilarious and Adorable Pups You've Ever Seen'](https://www.amazon.com/WeRateDogs-Most-Hilarious-Adorable-Youve/dp/1510717145) by the creator of the account, Matt Nelson.\n",
    "\n",
    "This project is divided into two parts. First, we will wrangle data from the `@dog_rates` account to prepare it for analysis. Then, we will perform sentiment analysis on the tweets to classify the type of sentiment: positive, neutral, or negative. **By analyzing the results and performing sentiment analysis, we seek to understand what type of tweets are more likely to be popular among the followers of the Twitter account `@dog_rates`.**\n",
    "\n",
    "We will first gather the data from two different sources:\n",
    "\n",
    "1. an archive of 2356 tweets from the `@dog_rates` account. The document comes in the form of a .csv text file.\n",
    "2. Twitter's API - for each tweet in the archive (and if the tweet still lives on Twitter's servers), we will query the API to extract the retweet_count and favorite_count (\"like\" counts).\n",
    "\n",
    "After cleaning and storing the clean dataset, we'll analyze and visualize the data to understand the characteristics of popular tweets before performing sentiment analysis."
   ]
  },
  {
   "cell_type": "markdown",
   "metadata": {},
   "source": [
    "<a id='data_wrangling'></a>\n",
    "## Part I - Wrangling the Data"
   ]
  },
  {
   "cell_type": "markdown",
   "metadata": {},
   "source": [
    "<a id='gathering'></a>\n",
    "### a. Gathering"
   ]
  },
  {
   "cell_type": "code",
   "execution_count": 69,
   "metadata": {},
   "outputs": [],
   "source": [
    "#import packages\n",
    "import pandas as pd\n",
    "import numpy as np\n",
    "import requests\n",
    "import tweepy\n",
    "import os\n",
    "import json\n",
    "import re\n",
    "import matplotlib.pyplot as plt\n",
    "import seaborn as sns\n",
    "%matplotlib inline\n",
    "from PIL import Image\n",
    "from wordcloud import WordCloud, STOPWORDS, ImageColorGenerator\n",
    "import nltk\n",
    "from nltk.sentiment.vader import SentimentIntensityAnalyzer"
   ]
  },
  {
   "cell_type": "code",
   "execution_count": 70,
   "metadata": {
    "scrolled": true
   },
   "outputs": [],
   "source": [
    "#read .csv Twitter archive\n",
    "twitter_archive = pd.read_csv \\\n",
    "('twitter-archive-enhanced.csv')"
   ]
  },
  {
   "cell_type": "code",
   "execution_count": 71,
   "metadata": {},
   "outputs": [],
   "source": [
    "#API token info\n",
    "consumer_key = ''\n",
    "consumer_secret = ''\n",
    "access_token = ''\n",
    "access_secret = ''\n",
    "\n",
    "#connect to Twitter API\n",
    "auth = tweepy.OAuthHandler(consumer_key, consumer_secret)\n",
    "auth.set_access_token(access_token, access_secret)\n",
    "\n",
    "api = tweepy.API(auth, wait_on_rate_limit=True, wait_on_rate_limit_notify=True)"
   ]
  },
  {
   "cell_type": "code",
   "execution_count": 72,
   "metadata": {},
   "outputs": [],
   "source": [
    "'''\n",
    "Create lists of 100 tweet_ids each so that we can query \n",
    "tweet statuses from Twitter's API in batch (and avoid running\n",
    "into Twitter's API rate limit).\n",
    "'''\n",
    "\n",
    "#convert `tweet_id` column to list\n",
    "tweet_id_list = twitter_archive['tweet_id'].to_list()\n",
    "\n",
    "#create sublists of 100 tweets each\n",
    "start_index = 0\n",
    "bucket_size = 100\n",
    "\n",
    "tweet_ids_list_of_lists = []\n",
    "\n",
    "while start_index < len(tweet_id_list):\n",
    "    tweet_ids_list_of_lists.append(tweet_id_list[start_index : start_index + bucket_size])\n",
    "    start_index += bucket_size"
   ]
  },
  {
   "cell_type": "code",
   "execution_count": 73,
   "metadata": {},
   "outputs": [],
   "source": [
    "#append tweet info (queried in batches of 100 tweets) from Twitter api to list of lists\n",
    "tweet_statuses_list_of_lists = []\n",
    "\n",
    "for tweet_ids in tweet_ids_list_of_lists:\n",
    "    tweet_statuses_list_of_lists.append(api.statuses_lookup(tweet_ids))"
   ]
  },
  {
   "cell_type": "code",
   "execution_count": 74,
   "metadata": {},
   "outputs": [],
   "source": [
    "#flatten the lists\n",
    "twitter_api = [status._json for tweet_ids in tweet_statuses_list_of_lists for status in tweet_ids]"
   ]
  },
  {
   "cell_type": "code",
   "execution_count": 75,
   "metadata": {},
   "outputs": [],
   "source": [
    "# Serialize json object \n",
    "json_data = json.dumps(twitter_api, indent = 2) \n",
    "   \n",
    "# Writing to tweet_json.txt \n",
    "with open(\"tweet_json.txt\", \"w\") as new_file: \n",
    "    new_file.write(json_data) "
   ]
  },
  {
   "cell_type": "code",
   "execution_count": 76,
   "metadata": {},
   "outputs": [],
   "source": [
    "# read tweet_json.txt into pandas DataFrame & keep tweet_id, retweet_count, and favorite_count only\n",
    "twitter_api = pd.read_json('tweet_json.txt')\n",
    "twitter_api = twitter_api[['id','retweet_count','favorite_count']]\n",
    "twitter_api.rename(columns={\"id\": \"tweet_id\"},inplace = True)"
   ]
  },
  {
   "cell_type": "markdown",
   "metadata": {},
   "source": [
    "<a id='assessing'></a>\n",
    "### b. Assessing"
   ]
  },
  {
   "cell_type": "code",
   "execution_count": 77,
   "metadata": {},
   "outputs": [],
   "source": [
    "#merge datasets\n",
    "df = pd.merge(twitter_archive, twitter_api, how='inner', on='tweet_id')"
   ]
  },
  {
   "cell_type": "code",
   "execution_count": 78,
   "metadata": {},
   "outputs": [
    {
     "data": {
      "text/html": [
       "<div>\n",
       "<style scoped>\n",
       "    .dataframe tbody tr th:only-of-type {\n",
       "        vertical-align: middle;\n",
       "    }\n",
       "\n",
       "    .dataframe tbody tr th {\n",
       "        vertical-align: top;\n",
       "    }\n",
       "\n",
       "    .dataframe thead th {\n",
       "        text-align: right;\n",
       "    }\n",
       "</style>\n",
       "<table border=\"1\" class=\"dataframe\">\n",
       "  <thead>\n",
       "    <tr style=\"text-align: right;\">\n",
       "      <th></th>\n",
       "      <th>tweet_id</th>\n",
       "      <th>in_reply_to_status_id</th>\n",
       "      <th>in_reply_to_user_id</th>\n",
       "      <th>timestamp</th>\n",
       "      <th>source</th>\n",
       "      <th>text</th>\n",
       "      <th>retweeted_status_id</th>\n",
       "      <th>retweeted_status_user_id</th>\n",
       "      <th>retweeted_status_timestamp</th>\n",
       "      <th>expanded_urls</th>\n",
       "      <th>rating_numerator</th>\n",
       "      <th>rating_denominator</th>\n",
       "      <th>name</th>\n",
       "      <th>doggo</th>\n",
       "      <th>floofer</th>\n",
       "      <th>pupper</th>\n",
       "      <th>puppo</th>\n",
       "      <th>retweet_count</th>\n",
       "      <th>favorite_count</th>\n",
       "    </tr>\n",
       "  </thead>\n",
       "  <tbody>\n",
       "    <tr>\n",
       "      <th>0</th>\n",
       "      <td>892420643555336193</td>\n",
       "      <td>NaN</td>\n",
       "      <td>NaN</td>\n",
       "      <td>2017-08-01 16:23:56 +0000</td>\n",
       "      <td>&lt;a href=\"http://twitter.com/download/iphone\" r...</td>\n",
       "      <td>This is Phineas. He's a mystical boy. Only eve...</td>\n",
       "      <td>NaN</td>\n",
       "      <td>NaN</td>\n",
       "      <td>NaN</td>\n",
       "      <td>https://twitter.com/dog_rates/status/892420643...</td>\n",
       "      <td>13</td>\n",
       "      <td>10</td>\n",
       "      <td>Phineas</td>\n",
       "      <td>None</td>\n",
       "      <td>None</td>\n",
       "      <td>None</td>\n",
       "      <td>None</td>\n",
       "      <td>7705</td>\n",
       "      <td>36201</td>\n",
       "    </tr>\n",
       "  </tbody>\n",
       "</table>\n",
       "</div>"
      ],
      "text/plain": [
       "             tweet_id  in_reply_to_status_id  in_reply_to_user_id  \\\n",
       "0  892420643555336193                    NaN                  NaN   \n",
       "\n",
       "                   timestamp  \\\n",
       "0  2017-08-01 16:23:56 +0000   \n",
       "\n",
       "                                              source  \\\n",
       "0  <a href=\"http://twitter.com/download/iphone\" r...   \n",
       "\n",
       "                                                text  retweeted_status_id  \\\n",
       "0  This is Phineas. He's a mystical boy. Only eve...                  NaN   \n",
       "\n",
       "   retweeted_status_user_id retweeted_status_timestamp  \\\n",
       "0                       NaN                        NaN   \n",
       "\n",
       "                                       expanded_urls  rating_numerator  \\\n",
       "0  https://twitter.com/dog_rates/status/892420643...                13   \n",
       "\n",
       "   rating_denominator     name doggo floofer pupper puppo  retweet_count  \\\n",
       "0                  10  Phineas  None    None   None  None           7705   \n",
       "\n",
       "   favorite_count  \n",
       "0           36201  "
      ]
     },
     "execution_count": 78,
     "metadata": {},
     "output_type": "execute_result"
    }
   ],
   "source": [
    "df.head(1)"
   ]
  },
  {
   "cell_type": "code",
   "execution_count": 79,
   "metadata": {},
   "outputs": [
    {
     "name": "stdout",
     "output_type": "stream",
     "text": [
      "<class 'pandas.core.frame.DataFrame'>\n",
      "Int64Index: 2331 entries, 0 to 2330\n",
      "Data columns (total 19 columns):\n",
      "tweet_id                      2331 non-null int64\n",
      "in_reply_to_status_id         78 non-null float64\n",
      "in_reply_to_user_id           78 non-null float64\n",
      "timestamp                     2331 non-null object\n",
      "source                        2331 non-null object\n",
      "text                          2331 non-null object\n",
      "retweeted_status_id           163 non-null float64\n",
      "retweeted_status_user_id      163 non-null float64\n",
      "retweeted_status_timestamp    163 non-null object\n",
      "expanded_urls                 2272 non-null object\n",
      "rating_numerator              2331 non-null int64\n",
      "rating_denominator            2331 non-null int64\n",
      "name                          2331 non-null object\n",
      "doggo                         2331 non-null object\n",
      "floofer                       2331 non-null object\n",
      "pupper                        2331 non-null object\n",
      "puppo                         2331 non-null object\n",
      "retweet_count                 2331 non-null int64\n",
      "favorite_count                2331 non-null int64\n",
      "dtypes: float64(4), int64(5), object(10)\n",
      "memory usage: 364.2+ KB\n"
     ]
    }
   ],
   "source": [
    "df.info()"
   ]
  },
  {
   "cell_type": "code",
   "execution_count": 80,
   "metadata": {},
   "outputs": [
    {
     "data": {
      "text/html": [
       "<div>\n",
       "<style scoped>\n",
       "    .dataframe tbody tr th:only-of-type {\n",
       "        vertical-align: middle;\n",
       "    }\n",
       "\n",
       "    .dataframe tbody tr th {\n",
       "        vertical-align: top;\n",
       "    }\n",
       "\n",
       "    .dataframe thead th {\n",
       "        text-align: right;\n",
       "    }\n",
       "</style>\n",
       "<table border=\"1\" class=\"dataframe\">\n",
       "  <thead>\n",
       "    <tr style=\"text-align: right;\">\n",
       "      <th></th>\n",
       "      <th>tweet_id</th>\n",
       "      <th>in_reply_to_status_id</th>\n",
       "      <th>in_reply_to_user_id</th>\n",
       "      <th>retweeted_status_id</th>\n",
       "      <th>retweeted_status_user_id</th>\n",
       "      <th>rating_numerator</th>\n",
       "      <th>rating_denominator</th>\n",
       "      <th>retweet_count</th>\n",
       "      <th>favorite_count</th>\n",
       "    </tr>\n",
       "  </thead>\n",
       "  <tbody>\n",
       "    <tr>\n",
       "      <th>count</th>\n",
       "      <td>2.331000e+03</td>\n",
       "      <td>7.800000e+01</td>\n",
       "      <td>7.800000e+01</td>\n",
       "      <td>1.630000e+02</td>\n",
       "      <td>1.630000e+02</td>\n",
       "      <td>2331.000000</td>\n",
       "      <td>2331.000000</td>\n",
       "      <td>2331.000000</td>\n",
       "      <td>2331.000000</td>\n",
       "    </tr>\n",
       "    <tr>\n",
       "      <th>mean</th>\n",
       "      <td>7.419079e+17</td>\n",
       "      <td>7.455079e+17</td>\n",
       "      <td>2.014171e+16</td>\n",
       "      <td>7.690768e+17</td>\n",
       "      <td>1.378818e+16</td>\n",
       "      <td>13.134706</td>\n",
       "      <td>10.459888</td>\n",
       "      <td>2703.632776</td>\n",
       "      <td>7556.836980</td>\n",
       "    </tr>\n",
       "    <tr>\n",
       "      <th>std</th>\n",
       "      <td>6.823170e+16</td>\n",
       "      <td>7.582492e+16</td>\n",
       "      <td>1.252797e+17</td>\n",
       "      <td>6.168036e+16</td>\n",
       "      <td>1.010910e+17</td>\n",
       "      <td>46.121847</td>\n",
       "      <td>6.781159</td>\n",
       "      <td>4571.678946</td>\n",
       "      <td>11729.636911</td>\n",
       "    </tr>\n",
       "    <tr>\n",
       "      <th>min</th>\n",
       "      <td>6.660209e+17</td>\n",
       "      <td>6.658147e+17</td>\n",
       "      <td>1.185634e+07</td>\n",
       "      <td>6.661041e+17</td>\n",
       "      <td>7.832140e+05</td>\n",
       "      <td>0.000000</td>\n",
       "      <td>0.000000</td>\n",
       "      <td>1.000000</td>\n",
       "      <td>0.000000</td>\n",
       "    </tr>\n",
       "    <tr>\n",
       "      <th>25%</th>\n",
       "      <td>6.782670e+17</td>\n",
       "      <td>6.757419e+17</td>\n",
       "      <td>3.086374e+08</td>\n",
       "      <td>7.118465e+17</td>\n",
       "      <td>4.196984e+09</td>\n",
       "      <td>10.000000</td>\n",
       "      <td>10.000000</td>\n",
       "      <td>546.500000</td>\n",
       "      <td>1317.000000</td>\n",
       "    </tr>\n",
       "    <tr>\n",
       "      <th>50%</th>\n",
       "      <td>7.182469e+17</td>\n",
       "      <td>7.038708e+17</td>\n",
       "      <td>4.196984e+09</td>\n",
       "      <td>7.798343e+17</td>\n",
       "      <td>4.196984e+09</td>\n",
       "      <td>11.000000</td>\n",
       "      <td>10.000000</td>\n",
       "      <td>1267.000000</td>\n",
       "      <td>3285.000000</td>\n",
       "    </tr>\n",
       "    <tr>\n",
       "      <th>75%</th>\n",
       "      <td>7.986692e+17</td>\n",
       "      <td>8.257804e+17</td>\n",
       "      <td>4.196984e+09</td>\n",
       "      <td>8.190056e+17</td>\n",
       "      <td>4.196984e+09</td>\n",
       "      <td>12.000000</td>\n",
       "      <td>10.000000</td>\n",
       "      <td>3142.000000</td>\n",
       "      <td>9256.000000</td>\n",
       "    </tr>\n",
       "    <tr>\n",
       "      <th>max</th>\n",
       "      <td>8.924206e+17</td>\n",
       "      <td>8.862664e+17</td>\n",
       "      <td>8.405479e+17</td>\n",
       "      <td>8.860537e+17</td>\n",
       "      <td>7.874618e+17</td>\n",
       "      <td>1776.000000</td>\n",
       "      <td>170.000000</td>\n",
       "      <td>77795.000000</td>\n",
       "      <td>156212.000000</td>\n",
       "    </tr>\n",
       "  </tbody>\n",
       "</table>\n",
       "</div>"
      ],
      "text/plain": [
       "           tweet_id  in_reply_to_status_id  in_reply_to_user_id  \\\n",
       "count  2.331000e+03           7.800000e+01         7.800000e+01   \n",
       "mean   7.419079e+17           7.455079e+17         2.014171e+16   \n",
       "std    6.823170e+16           7.582492e+16         1.252797e+17   \n",
       "min    6.660209e+17           6.658147e+17         1.185634e+07   \n",
       "25%    6.782670e+17           6.757419e+17         3.086374e+08   \n",
       "50%    7.182469e+17           7.038708e+17         4.196984e+09   \n",
       "75%    7.986692e+17           8.257804e+17         4.196984e+09   \n",
       "max    8.924206e+17           8.862664e+17         8.405479e+17   \n",
       "\n",
       "       retweeted_status_id  retweeted_status_user_id  rating_numerator  \\\n",
       "count         1.630000e+02              1.630000e+02       2331.000000   \n",
       "mean          7.690768e+17              1.378818e+16         13.134706   \n",
       "std           6.168036e+16              1.010910e+17         46.121847   \n",
       "min           6.661041e+17              7.832140e+05          0.000000   \n",
       "25%           7.118465e+17              4.196984e+09         10.000000   \n",
       "50%           7.798343e+17              4.196984e+09         11.000000   \n",
       "75%           8.190056e+17              4.196984e+09         12.000000   \n",
       "max           8.860537e+17              7.874618e+17       1776.000000   \n",
       "\n",
       "       rating_denominator  retweet_count  favorite_count  \n",
       "count         2331.000000    2331.000000     2331.000000  \n",
       "mean            10.459888    2703.632776     7556.836980  \n",
       "std              6.781159    4571.678946    11729.636911  \n",
       "min              0.000000       1.000000        0.000000  \n",
       "25%             10.000000     546.500000     1317.000000  \n",
       "50%             10.000000    1267.000000     3285.000000  \n",
       "75%             10.000000    3142.000000     9256.000000  \n",
       "max            170.000000   77795.000000   156212.000000  "
      ]
     },
     "execution_count": 80,
     "metadata": {},
     "output_type": "execute_result"
    }
   ],
   "source": [
    "df.describe()"
   ]
  },
  {
   "cell_type": "code",
   "execution_count": 81,
   "metadata": {},
   "outputs": [
    {
     "data": {
      "text/plain": [
       "tweet_id                         0\n",
       "in_reply_to_status_id         2253\n",
       "in_reply_to_user_id           2253\n",
       "timestamp                        0\n",
       "source                           0\n",
       "text                             0\n",
       "retweeted_status_id           2168\n",
       "retweeted_status_user_id      2168\n",
       "retweeted_status_timestamp    2168\n",
       "expanded_urls                   59\n",
       "rating_numerator                 0\n",
       "rating_denominator               0\n",
       "name                             0\n",
       "doggo                            0\n",
       "floofer                          0\n",
       "pupper                           0\n",
       "puppo                            0\n",
       "retweet_count                    0\n",
       "favorite_count                   0\n",
       "dtype: int64"
      ]
     },
     "execution_count": 81,
     "metadata": {},
     "output_type": "execute_result"
    }
   ],
   "source": [
    "df.isnull().sum()"
   ]
  },
  {
   "cell_type": "code",
   "execution_count": 82,
   "metadata": {},
   "outputs": [
    {
     "data": {
      "text/plain": [
       "844"
      ]
     },
     "execution_count": 82,
     "metadata": {},
     "output_type": "execute_result"
    }
   ],
   "source": [
    "df[df['name'].str[0].str.islower()]['name'].count() + df[df['name'] == 'None']['name'].count()"
   ]
  },
  {
   "cell_type": "code",
   "execution_count": 83,
   "metadata": {},
   "outputs": [
    {
     "data": {
      "text/plain": [
       "155"
      ]
     },
     "execution_count": 83,
     "metadata": {},
     "output_type": "execute_result"
    }
   ],
   "source": [
    "df[df[\"expanded_urls\"].str.contains(\"https://twitter.com/dog_rates\") == False].count()[0]"
   ]
  },
  {
   "cell_type": "code",
   "execution_count": 84,
   "metadata": {},
   "outputs": [
    {
     "data": {
      "text/plain": [
       "163"
      ]
     },
     "execution_count": 84,
     "metadata": {},
     "output_type": "execute_result"
    }
   ],
   "source": [
    "df.loc[df['retweeted_status_id'].notnull()].count()[0]"
   ]
  },
  {
   "cell_type": "code",
   "execution_count": 85,
   "metadata": {},
   "outputs": [
    {
     "data": {
      "text/plain": [
       "<a href=\"http://twitter.com/download/iphone\" rel=\"nofollow\">Twitter for iPhone</a>     2197\n",
       "<a href=\"http://vine.co\" rel=\"nofollow\">Vine - Make a Scene</a>                          91\n",
       "<a href=\"http://twitter.com\" rel=\"nofollow\">Twitter Web Client</a>                       33\n",
       "<a href=\"https://about.twitter.com/products/tweetdeck\" rel=\"nofollow\">TweetDeck</a>      10\n",
       "Name: source, dtype: int64"
      ]
     },
     "execution_count": 85,
     "metadata": {},
     "output_type": "execute_result"
    }
   ],
   "source": [
    "df.source.value_counts()"
   ]
  },
  {
   "cell_type": "markdown",
   "metadata": {},
   "source": [
    "**Data quality issues:**\n",
    "1. missing values\n",
    "2. wrong data types\n",
    "3. 844 dog names parsed incorrectly or non-existent\n",
    "4. Some numerators and denominators extracted incorrectly\n",
    "5. 163 tweets are retweets\n",
    "6. 155 URLs are not dog photos\n",
    "7. Dog stages not properly extracted\n",
    "8. Gibberish contained in `source` column\n",
    "\n",
    "**Data tidiness issues:**\n",
    "1. dog stage columns are values not variables"
   ]
  },
  {
   "cell_type": "markdown",
   "metadata": {},
   "source": [
    "<a id='cleaning'></a>\n",
    "### c. Cleaning"
   ]
  },
  {
   "cell_type": "markdown",
   "metadata": {},
   "source": [
    "#### 1. Changing datatypes"
   ]
  },
  {
   "cell_type": "markdown",
   "metadata": {},
   "source": [
    "**Define** : `tweet_id`, `in_reply_to_status_id`, `in_reply_to_user_id`, `retweeted_status_id`, and `retweeted_status_user_id` need to be converted to string (or object) because we can't do any numerical analysis on those variables. Time `timestamp` and `retweeted_status_timestamp` need to be converted to a datetime datatype."
   ]
  },
  {
   "cell_type": "markdown",
   "metadata": {},
   "source": [
    "**Code**"
   ]
  },
  {
   "cell_type": "code",
   "execution_count": 86,
   "metadata": {},
   "outputs": [],
   "source": [
    "df_clean = df.copy()"
   ]
  },
  {
   "cell_type": "code",
   "execution_count": 87,
   "metadata": {},
   "outputs": [],
   "source": [
    "#convert int & float to object\n",
    "df_clean = df_clean.astype({'tweet_id':'object','in_reply_to_status_id':'object',\n",
    "                                    'in_reply_to_user_id': 'object','retweeted_status_id':'object',\n",
    "                                   'retweeted_status_user_id': 'object'})\n",
    "\n",
    "#convert object to datetime\n",
    "df_clean[['timestamp', 'retweeted_status_timestamp']] = \\\n",
    "df_clean[['timestamp', 'retweeted_status_timestamp']].apply(pd.to_datetime, format='%Y-%m-%d %H:%M:%S.%f')"
   ]
  },
  {
   "cell_type": "markdown",
   "metadata": {},
   "source": [
    "**Test**"
   ]
  },
  {
   "cell_type": "code",
   "execution_count": 88,
   "metadata": {},
   "outputs": [
    {
     "name": "stdout",
     "output_type": "stream",
     "text": [
      "<class 'pandas.core.frame.DataFrame'>\n",
      "Int64Index: 2331 entries, 0 to 2330\n",
      "Data columns (total 19 columns):\n",
      "tweet_id                      2331 non-null object\n",
      "in_reply_to_status_id         78 non-null object\n",
      "in_reply_to_user_id           78 non-null object\n",
      "timestamp                     2331 non-null datetime64[ns, UTC]\n",
      "source                        2331 non-null object\n",
      "text                          2331 non-null object\n",
      "retweeted_status_id           163 non-null object\n",
      "retweeted_status_user_id      163 non-null object\n",
      "retweeted_status_timestamp    163 non-null datetime64[ns, UTC]\n",
      "expanded_urls                 2272 non-null object\n",
      "rating_numerator              2331 non-null int64\n",
      "rating_denominator            2331 non-null int64\n",
      "name                          2331 non-null object\n",
      "doggo                         2331 non-null object\n",
      "floofer                       2331 non-null object\n",
      "pupper                        2331 non-null object\n",
      "puppo                         2331 non-null object\n",
      "retweet_count                 2331 non-null int64\n",
      "favorite_count                2331 non-null int64\n",
      "dtypes: datetime64[ns, UTC](2), int64(4), object(13)\n",
      "memory usage: 364.2+ KB\n"
     ]
    }
   ],
   "source": [
    "df_clean.info()"
   ]
  },
  {
   "cell_type": "markdown",
   "metadata": {},
   "source": [
    "#### 2. Deleting retweets from the dataset"
   ]
  },
  {
   "cell_type": "markdown",
   "metadata": {},
   "source": [
    "**Define** : Let's drop the rows where a tweet is actually a retweet so that we only perform analysis on the original text."
   ]
  },
  {
   "cell_type": "markdown",
   "metadata": {},
   "source": [
    "**Code**"
   ]
  },
  {
   "cell_type": "code",
   "execution_count": 89,
   "metadata": {},
   "outputs": [],
   "source": [
    "df_clean = df_clean.loc[df_clean['retweeted_status_id'].isnull()]"
   ]
  },
  {
   "cell_type": "markdown",
   "metadata": {},
   "source": [
    "**Test**"
   ]
  },
  {
   "cell_type": "code",
   "execution_count": 90,
   "metadata": {},
   "outputs": [
    {
     "data": {
      "text/html": [
       "<div>\n",
       "<style scoped>\n",
       "    .dataframe tbody tr th:only-of-type {\n",
       "        vertical-align: middle;\n",
       "    }\n",
       "\n",
       "    .dataframe tbody tr th {\n",
       "        vertical-align: top;\n",
       "    }\n",
       "\n",
       "    .dataframe thead th {\n",
       "        text-align: right;\n",
       "    }\n",
       "</style>\n",
       "<table border=\"1\" class=\"dataframe\">\n",
       "  <thead>\n",
       "    <tr style=\"text-align: right;\">\n",
       "      <th></th>\n",
       "      <th>tweet_id</th>\n",
       "      <th>in_reply_to_status_id</th>\n",
       "      <th>in_reply_to_user_id</th>\n",
       "      <th>timestamp</th>\n",
       "      <th>source</th>\n",
       "      <th>text</th>\n",
       "      <th>retweeted_status_id</th>\n",
       "      <th>retweeted_status_user_id</th>\n",
       "      <th>retweeted_status_timestamp</th>\n",
       "      <th>expanded_urls</th>\n",
       "      <th>rating_numerator</th>\n",
       "      <th>rating_denominator</th>\n",
       "      <th>name</th>\n",
       "      <th>doggo</th>\n",
       "      <th>floofer</th>\n",
       "      <th>pupper</th>\n",
       "      <th>puppo</th>\n",
       "      <th>retweet_count</th>\n",
       "      <th>favorite_count</th>\n",
       "    </tr>\n",
       "  </thead>\n",
       "  <tbody>\n",
       "  </tbody>\n",
       "</table>\n",
       "</div>"
      ],
      "text/plain": [
       "Empty DataFrame\n",
       "Columns: [tweet_id, in_reply_to_status_id, in_reply_to_user_id, timestamp, source, text, retweeted_status_id, retweeted_status_user_id, retweeted_status_timestamp, expanded_urls, rating_numerator, rating_denominator, name, doggo, floofer, pupper, puppo, retweet_count, favorite_count]\n",
       "Index: []"
      ]
     },
     "execution_count": 90,
     "metadata": {},
     "output_type": "execute_result"
    }
   ],
   "source": [
    "df_clean.loc[df_clean['retweeted_status_id'].notnull()]"
   ]
  },
  {
   "cell_type": "markdown",
   "metadata": {},
   "source": [
    "#### 3. Deleting tweets that don't belong to the @WeRateDogs account"
   ]
  },
  {
   "cell_type": "markdown",
   "metadata": {},
   "source": [
    "**Define** : As evidenced by the url domains, some tweets are actually from an entirely different account. Let's delete the rows where they appear"
   ]
  },
  {
   "cell_type": "markdown",
   "metadata": {},
   "source": [
    "**Code**"
   ]
  },
  {
   "cell_type": "code",
   "execution_count": 91,
   "metadata": {},
   "outputs": [],
   "source": [
    "df_clean = df_clean[df_clean[\"expanded_urls\"].str.contains(\"https://twitter.com/dog_rates\") == True]"
   ]
  },
  {
   "cell_type": "markdown",
   "metadata": {},
   "source": [
    "**Test**"
   ]
  },
  {
   "cell_type": "code",
   "execution_count": 92,
   "metadata": {},
   "outputs": [
    {
     "data": {
      "text/html": [
       "<div>\n",
       "<style scoped>\n",
       "    .dataframe tbody tr th:only-of-type {\n",
       "        vertical-align: middle;\n",
       "    }\n",
       "\n",
       "    .dataframe tbody tr th {\n",
       "        vertical-align: top;\n",
       "    }\n",
       "\n",
       "    .dataframe thead th {\n",
       "        text-align: right;\n",
       "    }\n",
       "</style>\n",
       "<table border=\"1\" class=\"dataframe\">\n",
       "  <thead>\n",
       "    <tr style=\"text-align: right;\">\n",
       "      <th></th>\n",
       "      <th>tweet_id</th>\n",
       "      <th>in_reply_to_status_id</th>\n",
       "      <th>in_reply_to_user_id</th>\n",
       "      <th>timestamp</th>\n",
       "      <th>source</th>\n",
       "      <th>text</th>\n",
       "      <th>retweeted_status_id</th>\n",
       "      <th>retweeted_status_user_id</th>\n",
       "      <th>retweeted_status_timestamp</th>\n",
       "      <th>expanded_urls</th>\n",
       "      <th>rating_numerator</th>\n",
       "      <th>rating_denominator</th>\n",
       "      <th>name</th>\n",
       "      <th>doggo</th>\n",
       "      <th>floofer</th>\n",
       "      <th>pupper</th>\n",
       "      <th>puppo</th>\n",
       "      <th>retweet_count</th>\n",
       "      <th>favorite_count</th>\n",
       "    </tr>\n",
       "  </thead>\n",
       "  <tbody>\n",
       "  </tbody>\n",
       "</table>\n",
       "</div>"
      ],
      "text/plain": [
       "Empty DataFrame\n",
       "Columns: [tweet_id, in_reply_to_status_id, in_reply_to_user_id, timestamp, source, text, retweeted_status_id, retweeted_status_user_id, retweeted_status_timestamp, expanded_urls, rating_numerator, rating_denominator, name, doggo, floofer, pupper, puppo, retweet_count, favorite_count]\n",
       "Index: []"
      ]
     },
     "execution_count": 92,
     "metadata": {},
     "output_type": "execute_result"
    }
   ],
   "source": [
    "df_clean[df_clean[\"expanded_urls\"].str.contains(\"https://twitter.com/dog_rates\") == False]"
   ]
  },
  {
   "cell_type": "markdown",
   "metadata": {},
   "source": [
    "#### 4. Replacing incorrectly parsed dog names"
   ]
  },
  {
   "cell_type": "markdown",
   "metadata": {},
   "source": [
    "**Define** : Some dog names were either parsed incorrectly from the `text` column or don't exist (represented by 'None'). Let's replace the incorrectly parsed and inexistent dog names with 'no_name'."
   ]
  },
  {
   "cell_type": "markdown",
   "metadata": {},
   "source": [
    "**Code**"
   ]
  },
  {
   "cell_type": "code",
   "execution_count": 93,
   "metadata": {},
   "outputs": [
    {
     "data": {
      "text/plain": [
       "[None,\n",
       " None,\n",
       " None,\n",
       " None,\n",
       " None,\n",
       " None,\n",
       " None,\n",
       " None,\n",
       " None,\n",
       " None,\n",
       " None,\n",
       " None,\n",
       " None,\n",
       " None,\n",
       " None,\n",
       " None,\n",
       " None,\n",
       " None,\n",
       " None,\n",
       " None,\n",
       " None,\n",
       " None,\n",
       " None,\n",
       " None,\n",
       " None,\n",
       " None,\n",
       " None,\n",
       " None,\n",
       " None,\n",
       " None,\n",
       " None,\n",
       " None,\n",
       " None,\n",
       " None,\n",
       " None,\n",
       " None,\n",
       " None,\n",
       " None,\n",
       " None,\n",
       " None,\n",
       " None,\n",
       " None,\n",
       " None,\n",
       " None,\n",
       " None,\n",
       " None,\n",
       " None,\n",
       " None,\n",
       " None,\n",
       " None,\n",
       " None,\n",
       " None,\n",
       " None,\n",
       " None,\n",
       " None,\n",
       " None,\n",
       " None,\n",
       " None,\n",
       " None,\n",
       " None,\n",
       " None,\n",
       " None,\n",
       " None,\n",
       " None,\n",
       " None,\n",
       " None,\n",
       " None,\n",
       " None,\n",
       " None,\n",
       " None,\n",
       " None,\n",
       " None,\n",
       " None,\n",
       " None,\n",
       " None,\n",
       " None,\n",
       " None,\n",
       " None,\n",
       " None,\n",
       " None,\n",
       " None,\n",
       " None,\n",
       " None,\n",
       " None,\n",
       " None,\n",
       " None,\n",
       " None,\n",
       " None,\n",
       " None,\n",
       " None,\n",
       " None,\n",
       " None,\n",
       " None,\n",
       " None,\n",
       " None,\n",
       " None,\n",
       " None,\n",
       " None]"
      ]
     },
     "execution_count": 93,
     "metadata": {},
     "output_type": "execute_result"
    }
   ],
   "source": [
    "no_name_list = df_clean[df_clean['name'].str[0].str.islower()]['name'].to_list()\n",
    "\n",
    "[df_clean['name'].replace(to_replace =[no_name_list], value = None, inplace = True) for name in no_name_list] "
   ]
  },
  {
   "cell_type": "markdown",
   "metadata": {},
   "source": [
    "**Test**"
   ]
  },
  {
   "cell_type": "code",
   "execution_count": 94,
   "metadata": {},
   "outputs": [
    {
     "data": {
      "text/plain": [
       "None       584\n",
       "Oliver      12\n",
       "Cooper      10\n",
       "Charlie     10\n",
       "Penny        9\n",
       "          ... \n",
       "Karma        1\n",
       "Gerbald      1\n",
       "Cuddles      1\n",
       "William      1\n",
       "Mitch        1\n",
       "Name: name, Length: 912, dtype: int64"
      ]
     },
     "execution_count": 94,
     "metadata": {},
     "output_type": "execute_result"
    }
   ],
   "source": [
    "df_clean.name.value_counts()"
   ]
  },
  {
   "cell_type": "markdown",
   "metadata": {},
   "source": [
    "#### 5. Replacing incorrectly parsed numerators and denominators"
   ]
  },
  {
   "cell_type": "markdown",
   "metadata": {},
   "source": [
    "**Define** : Some numerators and denominators parsed from the `text` column failed to account for decimals. Let's retrieve the correct rating and then apply it to the `numerator` and `denominator` columns."
   ]
  },
  {
   "cell_type": "markdown",
   "metadata": {},
   "source": [
    "**Code**"
   ]
  },
  {
   "cell_type": "code",
   "execution_count": 95,
   "metadata": {},
   "outputs": [],
   "source": [
    "rating = df_clean.text.str.extract('((?:\\d+\\.)?\\d+)\\/(\\d+)', expand=True)"
   ]
  },
  {
   "cell_type": "code",
   "execution_count": 96,
   "metadata": {},
   "outputs": [],
   "source": [
    "rating.columns = ['rating_numerator', 'rating_denominator']"
   ]
  },
  {
   "cell_type": "code",
   "execution_count": 97,
   "metadata": {},
   "outputs": [],
   "source": [
    "df_clean = df_clean.astype({'rating_numerator':'float64','rating_denominator':'float64'})"
   ]
  },
  {
   "cell_type": "markdown",
   "metadata": {},
   "source": [
    "**Test**"
   ]
  },
  {
   "cell_type": "code",
   "execution_count": 98,
   "metadata": {},
   "outputs": [
    {
     "name": "stdout",
     "output_type": "stream",
     "text": [
      "'rating_numerator' datatype: float64\n",
      "'rating_denominator' datatype: float64\n"
     ]
    }
   ],
   "source": [
    "print(\"'rating_numerator' datatype:\" , df_clean.rating_numerator.dtype)\n",
    "print(\"'rating_denominator' datatype:\"  , df_clean.rating_denominator.dtype)"
   ]
  },
  {
   "cell_type": "markdown",
   "metadata": {},
   "source": [
    "#### 6. Correctly parse dog stages from `text` column"
   ]
  },
  {
   "cell_type": "markdown",
   "metadata": {},
   "source": [
    "**Define** : Some dog stages have been parsed incorrectly. Let's first correctly parse them into separate columns. We'll then join them into one column named `dog_stages`."
   ]
  },
  {
   "cell_type": "markdown",
   "metadata": {},
   "source": [
    "**Code**"
   ]
  },
  {
   "cell_type": "code",
   "execution_count": 99,
   "metadata": {},
   "outputs": [],
   "source": [
    "df_clean['floofer'] = df_clean.text.str.lower().str.extract(r'([F-f]loof)', expand = True)\n",
    "df_clean['doggo'] = df_clean.text.str.lower().str.extract(r'([D-d]oggo)', expand = True)\n",
    "df_clean['pupper'] = df_clean.text.str.lower().str.extract(r'([P-p]upper)', expand = True)\n",
    "df_clean['puppo'] = df_clean.text.str.lower().str.extract(r'([P-p]uppo)', expand = True)\n",
    "df_clean['blep'] = df_clean.text.str.lower().str.extract(r'([B-b]lep)', expand = True)\n",
    "df_clean['snoot'] = df_clean.text.str.lower().str.extract(r'([S-s]noot)', expand = True)"
   ]
  },
  {
   "cell_type": "code",
   "execution_count": 100,
   "metadata": {},
   "outputs": [],
   "source": [
    "df_clean['dog_stages'] = df_clean[['floofer','doggo','pupper','puppo','blep','snoot']].apply(\n",
    "    lambda x: ','.join(x.dropna().astype(str)),\n",
    "    axis=1)"
   ]
  },
  {
   "cell_type": "code",
   "execution_count": 101,
   "metadata": {},
   "outputs": [],
   "source": [
    "df_clean['dog_stages'].replace({'':None}, inplace = True)"
   ]
  },
  {
   "cell_type": "code",
   "execution_count": 102,
   "metadata": {},
   "outputs": [],
   "source": [
    "#handle missing values\n",
    "df_clean.loc[df_clean.dog_stages == '', 'dog_stages'] = np.nan"
   ]
  },
  {
   "cell_type": "markdown",
   "metadata": {},
   "source": [
    "**Test**"
   ]
  },
  {
   "cell_type": "code",
   "execution_count": 103,
   "metadata": {},
   "outputs": [
    {
     "data": {
      "text/plain": [
       "pupper          226\n",
       "doggo            66\n",
       "floof            34\n",
       "puppo            26\n",
       "doggo,pupper      9\n",
       "blep              3\n",
       "floof,doggo       2\n",
       "doggo,puppo       2\n",
       "floof,pupper      1\n",
       "pupper,blep       1\n",
       "Name: dog_stages, dtype: int64"
      ]
     },
     "execution_count": 103,
     "metadata": {},
     "output_type": "execute_result"
    }
   ],
   "source": [
    "df_clean.dog_stages.value_counts()"
   ]
  },
  {
   "cell_type": "markdown",
   "metadata": {},
   "source": [
    "#### 7. Delete dog stage variable columns"
   ]
  },
  {
   "cell_type": "markdown",
   "metadata": {},
   "source": [
    "**Define** : The fact that there are 6 columns representing the various dog stages is a data tidiness issue. Now that we have properly extracted the dog stages, let's delete the extraneous columns that have been combined into one column entitled `dog_stages`."
   ]
  },
  {
   "cell_type": "markdown",
   "metadata": {},
   "source": [
    "**Code**"
   ]
  },
  {
   "cell_type": "code",
   "execution_count": 104,
   "metadata": {},
   "outputs": [],
   "source": [
    "df_clean.drop(['floofer','doggo','pupper','puppo','blep','snoot'], axis = 1, inplace = True)"
   ]
  },
  {
   "cell_type": "markdown",
   "metadata": {},
   "source": [
    "**Test**"
   ]
  },
  {
   "cell_type": "code",
   "execution_count": 105,
   "metadata": {},
   "outputs": [
    {
     "name": "stdout",
     "output_type": "stream",
     "text": [
      "<class 'pandas.core.frame.DataFrame'>\n",
      "Int64Index: 1987 entries, 0 to 2330\n",
      "Data columns (total 16 columns):\n",
      "tweet_id                      1987 non-null object\n",
      "in_reply_to_status_id         23 non-null object\n",
      "in_reply_to_user_id           23 non-null object\n",
      "timestamp                     1987 non-null datetime64[ns, UTC]\n",
      "source                        1987 non-null object\n",
      "text                          1987 non-null object\n",
      "retweeted_status_id           0 non-null object\n",
      "retweeted_status_user_id      0 non-null object\n",
      "retweeted_status_timestamp    0 non-null datetime64[ns, UTC]\n",
      "expanded_urls                 1987 non-null object\n",
      "rating_numerator              1987 non-null float64\n",
      "rating_denominator            1987 non-null float64\n",
      "name                          1987 non-null object\n",
      "retweet_count                 1987 non-null int64\n",
      "favorite_count                1987 non-null int64\n",
      "dog_stages                    370 non-null object\n",
      "dtypes: datetime64[ns, UTC](2), float64(2), int64(2), object(10)\n",
      "memory usage: 263.9+ KB\n"
     ]
    }
   ],
   "source": [
    "df_clean.info()"
   ]
  },
  {
   "cell_type": "markdown",
   "metadata": {},
   "source": [
    "#### 8. Clean gibberish from `source` column"
   ]
  },
  {
   "cell_type": "markdown",
   "metadata": {},
   "source": [
    "**Define** : Let's extract the source from the `source` column so that it's clearer to visualize."
   ]
  },
  {
   "cell_type": "markdown",
   "metadata": {},
   "source": [
    "**Code**"
   ]
  },
  {
   "cell_type": "code",
   "execution_count": 106,
   "metadata": {},
   "outputs": [],
   "source": [
    "extract_source_list = [re.findall(r'(.*?\\>(.*)<.*)', source) for source in df_clean['source']]\n",
    "\n",
    "for extract_source in extract_source_list:\n",
    "    df_clean['source'] = df_clean['source'].replace(extract_source, extract_source[0][1])"
   ]
  },
  {
   "cell_type": "markdown",
   "metadata": {},
   "source": [
    "**Test**"
   ]
  },
  {
   "cell_type": "code",
   "execution_count": 107,
   "metadata": {},
   "outputs": [
    {
     "data": {
      "text/plain": [
       "Twitter for iPhone    1949\n",
       "Twitter Web Client      28\n",
       "TweetDeck               10\n",
       "Name: source, dtype: int64"
      ]
     },
     "execution_count": 107,
     "metadata": {},
     "output_type": "execute_result"
    }
   ],
   "source": [
    "df_clean.source.value_counts()"
   ]
  },
  {
   "cell_type": "code",
   "execution_count": 108,
   "metadata": {},
   "outputs": [],
   "source": [
    "#save the clean dataframe\n",
    "twitter_archive_master = df_clean.to_csv('twitter_archive_master.csv', index=False)"
   ]
  },
  {
   "cell_type": "code",
   "execution_count": 109,
   "metadata": {},
   "outputs": [],
   "source": [
    "twitter_data = pd.read_csv('twitter_archive_master.csv')"
   ]
  },
  {
   "cell_type": "code",
   "execution_count": 110,
   "metadata": {},
   "outputs": [
    {
     "data": {
      "text/html": [
       "<div>\n",
       "<style scoped>\n",
       "    .dataframe tbody tr th:only-of-type {\n",
       "        vertical-align: middle;\n",
       "    }\n",
       "\n",
       "    .dataframe tbody tr th {\n",
       "        vertical-align: top;\n",
       "    }\n",
       "\n",
       "    .dataframe thead th {\n",
       "        text-align: right;\n",
       "    }\n",
       "</style>\n",
       "<table border=\"1\" class=\"dataframe\">\n",
       "  <thead>\n",
       "    <tr style=\"text-align: right;\">\n",
       "      <th></th>\n",
       "      <th>tweet_id</th>\n",
       "      <th>in_reply_to_status_id</th>\n",
       "      <th>in_reply_to_user_id</th>\n",
       "      <th>timestamp</th>\n",
       "      <th>source</th>\n",
       "      <th>text</th>\n",
       "      <th>retweeted_status_id</th>\n",
       "      <th>retweeted_status_user_id</th>\n",
       "      <th>retweeted_status_timestamp</th>\n",
       "      <th>expanded_urls</th>\n",
       "      <th>rating_numerator</th>\n",
       "      <th>rating_denominator</th>\n",
       "      <th>name</th>\n",
       "      <th>retweet_count</th>\n",
       "      <th>favorite_count</th>\n",
       "      <th>dog_stages</th>\n",
       "    </tr>\n",
       "  </thead>\n",
       "  <tbody>\n",
       "    <tr>\n",
       "      <th>0</th>\n",
       "      <td>892420643555336193</td>\n",
       "      <td>NaN</td>\n",
       "      <td>NaN</td>\n",
       "      <td>2017-08-01 16:23:56+00:00</td>\n",
       "      <td>Twitter for iPhone</td>\n",
       "      <td>This is Phineas. He's a mystical boy. Only eve...</td>\n",
       "      <td>NaN</td>\n",
       "      <td>NaN</td>\n",
       "      <td>NaN</td>\n",
       "      <td>https://twitter.com/dog_rates/status/892420643...</td>\n",
       "      <td>13.0</td>\n",
       "      <td>10.0</td>\n",
       "      <td>Phineas</td>\n",
       "      <td>7705</td>\n",
       "      <td>36201</td>\n",
       "      <td>NaN</td>\n",
       "    </tr>\n",
       "  </tbody>\n",
       "</table>\n",
       "</div>"
      ],
      "text/plain": [
       "             tweet_id  in_reply_to_status_id  in_reply_to_user_id  \\\n",
       "0  892420643555336193                    NaN                  NaN   \n",
       "\n",
       "                   timestamp              source  \\\n",
       "0  2017-08-01 16:23:56+00:00  Twitter for iPhone   \n",
       "\n",
       "                                                text  retweeted_status_id  \\\n",
       "0  This is Phineas. He's a mystical boy. Only eve...                  NaN   \n",
       "\n",
       "   retweeted_status_user_id  retweeted_status_timestamp  \\\n",
       "0                       NaN                         NaN   \n",
       "\n",
       "                                       expanded_urls  rating_numerator  \\\n",
       "0  https://twitter.com/dog_rates/status/892420643...              13.0   \n",
       "\n",
       "   rating_denominator     name  retweet_count  favorite_count dog_stages  \n",
       "0                10.0  Phineas           7705           36201        NaN  "
      ]
     },
     "execution_count": 110,
     "metadata": {},
     "output_type": "execute_result"
    }
   ],
   "source": [
    "twitter_data.head(1)"
   ]
  },
  {
   "cell_type": "markdown",
   "metadata": {},
   "source": [
    "#### e. Exploring"
   ]
  },
  {
   "cell_type": "markdown",
   "metadata": {},
   "source": [
    "Now that we have successfully wrangled twitter data of the @WeRateDogs account and stored the clean dataframe in a .csv file, let's now explore the cleaned dataset."
   ]
  },
  {
   "cell_type": "code",
   "execution_count": 111,
   "metadata": {},
   "outputs": [],
   "source": [
    "twitter_data['rating'] = twitter_data['rating_numerator'] / twitter_data['rating_denominator']"
   ]
  },
  {
   "cell_type": "code",
   "execution_count": 112,
   "metadata": {},
   "outputs": [
    {
     "data": {
      "text/plain": [
       "11.0"
      ]
     },
     "execution_count": 112,
     "metadata": {},
     "output_type": "execute_result"
    }
   ],
   "source": [
    "twitter_data['rating'].median()*10"
   ]
  },
  {
   "cell_type": "code",
   "execution_count": 113,
   "metadata": {},
   "outputs": [
    {
     "data": {
      "image/png": "[encoded data removed]",
      "text/plain": [
       "<Figure size 432x288 with 1 Axes>"
      ]
     },
     "metadata": {
      "needs_background": "light"
     },
     "output_type": "display_data"
    }
   ],
   "source": [
    "bins= np.arange(0,5+1/5, 1/5)\n",
    "sns.distplot(np.sqrt(twitter_data[\"rating\"]) ,bins = bins);\n",
    "plt.xlim(0, 5)\n",
    "plt.xlabel('')\n",
    "plt.title('square root transformation of the rating distribution');"
   ]
  },
  {
   "cell_type": "markdown",
   "metadata": {},
   "source": [
    "Using a square root transformation to reduce some of the data skewness, we visualized the `rating` column distribution. As becomes apparent, most ratings tend to be concentrated around 1.2-1.3 (the equivalent of 12/10 or 13/10). Dog owners seem to cherish their dogs to the point that they attibute an unconventially high rating!"
   ]
  },
  {
   "cell_type": "code",
   "execution_count": 114,
   "metadata": {},
   "outputs": [
    {
     "data": {
      "image/png": "[encoded data removed]",
      "text/plain": [
       "<Figure size 432x288 with 1 Axes>"
      ]
     },
     "metadata": {
      "needs_background": "light"
     },
     "output_type": "display_data"
    }
   ],
   "source": [
    "plt.scatter(data = twitter_data, x = 'favorite_count', y = 'retweet_count', c = 'darkmagenta');\n",
    "plt.xlabel('number of \"likes\"');\n",
    "plt.ylabel('number of retweets');\n",
    "plt.title('Number of likes v. number of retweets', fontweight = 'bold');"
   ]
  },
  {
   "cell_type": "code",
   "execution_count": 115,
   "metadata": {},
   "outputs": [
    {
     "data": {
      "text/plain": [
       "0.9290732486192403"
      ]
     },
     "execution_count": 115,
     "metadata": {},
     "output_type": "execute_result"
    }
   ],
   "source": [
    "twitter_data.favorite_count.corr(twitter_data.retweet_count)"
   ]
  },
  {
   "cell_type": "markdown",
   "metadata": {},
   "source": [
    "From the scatterplot above, we notice that `favorite_count` and `retweet_count` are variables that have a strong positive correlation (with a coefficient of approx. 0.93). We can conclude that there is a strong chance that tweets with the most \"likes\" will be retweeted. There is one data point that seems to stick out. Let's isolate that datapoint to see what makes it stand out above the rest of the dogs portrayed in the @rate_dogs account."
   ]
  },
  {
   "cell_type": "code",
   "execution_count": 116,
   "metadata": {},
   "outputs": [],
   "source": [
    "most_popular_dog_url = twitter_data.loc[twitter_data.favorite_count == \n",
    "                                        twitter_data.favorite_count.max()].values[0][10]"
   ]
  },
  {
   "cell_type": "code",
   "execution_count": 117,
   "metadata": {},
   "outputs": [],
   "source": [
    "#Tweet class initially defined here: https://github.com/jupyter/notebook/issues/2790\n",
    "class Tweet(object):\n",
    "    def __init__(self, embed_str=None):\n",
    "        self.embed_str = embed_str\n",
    "\n",
    "    def _repr_html_(self):\n",
    "        return self.embed_str"
   ]
  },
  {
   "cell_type": "code",
   "execution_count": 118,
   "metadata": {
    "scrolled": true
   },
   "outputs": [
    {
     "data": {
      "text/html": [
       "\n",
       "<blockquote class=\"twitter-tweet\"><p lang=\"en\" dir=\"ltr\">Here&#39;s a doggo realizing you can stand in a pool. \n",
       "13/10 enlightened af (vid by Tina Conrad) <a href=\"https://t.co/7wE9LTEXC4\">pic.twitter.com/7wE9LTEXC4</a></p>&mdash; \n",
       "WeRateDogs® (@dog_rates) <a href=\"https://twitter.com/dog_rates/status/744234799360020481?ref_src=twsrc%5Etfw\">\n",
       "June 18, 2016</a></blockquote> <script async src=\"https://platform.twitter.com/widgets.js\" charset=\"utf-8\"></script>\n"
      ],
      "text/plain": [
       "<__main__.Tweet at 0x1a24d8c3d0>"
      ]
     },
     "execution_count": 118,
     "metadata": {},
     "output_type": "execute_result"
    }
   ],
   "source": [
    "Tweet(\"\"\"\n",
    "<blockquote class=\"twitter-tweet\"><p lang=\"en\" dir=\"ltr\">Here&#39;s a doggo realizing you can stand in a pool. \n",
    "13/10 enlightened af (vid by Tina Conrad) <a href=\"https://t.co/7wE9LTEXC4\">pic.twitter.com/7wE9LTEXC4</a></p>&mdash; \n",
    "WeRateDogs® (@dog_rates) <a href=\"https://twitter.com/dog_rates/status/744234799360020481?ref_src=twsrc%5Etfw\">\n",
    "June 18, 2016</a></blockquote> <script async src=\"https://platform.twitter.com/widgets.js\" charset=\"utf-8\"></script>\n",
    "\"\"\")"
   ]
  },
  {
   "cell_type": "markdown",
   "metadata": {},
   "source": [
    "Well isn't he cute?!! That doggo definitely deserved the attention he got on Twitter. I wonder if videos are more popular than photos... let's find out."
   ]
  },
  {
   "cell_type": "code",
   "execution_count": 119,
   "metadata": {},
   "outputs": [],
   "source": [
    "twitter_data['photo_or_video'] = pd.np.where(twitter_data.expanded_urls.str.contains(\"photo\"), \"photo\",\n",
    "                               pd.np.where(twitter_data.expanded_urls.str.contains(\"video\"), \"video\",None))"
   ]
  },
  {
   "cell_type": "code",
   "execution_count": 120,
   "metadata": {},
   "outputs": [
    {
     "data": {
      "text/plain": [
       "photo    0.962758\n",
       "video    0.037242\n",
       "Name: photo_or_video, dtype: float64"
      ]
     },
     "execution_count": 120,
     "metadata": {},
     "output_type": "execute_result"
    }
   ],
   "source": [
    "twitter_data.photo_or_video.value_counts(normalize = True)"
   ]
  },
  {
   "cell_type": "code",
   "execution_count": 121,
   "metadata": {},
   "outputs": [
    {
     "data": {
      "text/html": [
       "<div>\n",
       "<style scoped>\n",
       "    .dataframe tbody tr th:only-of-type {\n",
       "        vertical-align: middle;\n",
       "    }\n",
       "\n",
       "    .dataframe tbody tr th {\n",
       "        vertical-align: top;\n",
       "    }\n",
       "\n",
       "    .dataframe thead th {\n",
       "        text-align: right;\n",
       "    }\n",
       "</style>\n",
       "<table border=\"1\" class=\"dataframe\">\n",
       "  <thead>\n",
       "    <tr style=\"text-align: right;\">\n",
       "      <th></th>\n",
       "      <th>retweet_count</th>\n",
       "      <th>favorite_count</th>\n",
       "    </tr>\n",
       "    <tr>\n",
       "      <th>photo_or_video</th>\n",
       "      <th></th>\n",
       "      <th></th>\n",
       "    </tr>\n",
       "  </thead>\n",
       "  <tbody>\n",
       "    <tr>\n",
       "      <th>photo</th>\n",
       "      <td>2219.211187</td>\n",
       "      <td>7793.985886</td>\n",
       "    </tr>\n",
       "    <tr>\n",
       "      <th>video</th>\n",
       "      <td>8566.635135</td>\n",
       "      <td>20554.891892</td>\n",
       "    </tr>\n",
       "  </tbody>\n",
       "</table>\n",
       "</div>"
      ],
      "text/plain": [
       "                retweet_count  favorite_count\n",
       "photo_or_video                               \n",
       "photo             2219.211187     7793.985886\n",
       "video             8566.635135    20554.891892"
      ]
     },
     "execution_count": 121,
     "metadata": {},
     "output_type": "execute_result"
    }
   ],
   "source": [
    "twitter_data.groupby('photo_or_video')['retweet_count','favorite_count'].mean()"
   ]
  },
  {
   "cell_type": "markdown",
   "metadata": {},
   "source": [
    "While videos represent a small percentage of tweets (approx. 0.04%), they tend to be \"liked\" and retweeted a lot more than photos. On average, videos get 20,555 likes compared to 7,794 for photos, representing 2.64 more likes. They also get 8,567 retweets on average, compared to 2,219 for photos, representing about 3.86 more retweets than for photos. We can also visualize the information using the same scatterplot as above, adding a third variable ('photo' or 'video')."
   ]
  },
  {
   "cell_type": "code",
   "execution_count": 122,
   "metadata": {},
   "outputs": [
    {
     "data": {
      "image/png": "[encoded data removed]",
      "text/plain": [
       "<Figure size 432x288 with 1 Axes>"
      ]
     },
     "metadata": {
      "needs_background": "light"
     },
     "output_type": "display_data"
    }
   ],
   "source": [
    "colors = {'photo':'#AFEEEE','video':'#8B0000'}\n",
    "\n",
    "ax = sns.scatterplot(x=\"favorite_count\", y=\"retweet_count\",\n",
    "                hue=\"photo_or_video\",\n",
    "                palette=colors,\n",
    "                linewidth=0,\n",
    "                data=twitter_data,\n",
    "                alpha = 0.7)\n",
    "\n",
    "handles,labels = ax.get_legend_handles_labels()\n",
    "\n",
    "plt.legend(fancybox=True, shadow=True)\n",
    "ax.legend(handles=handles[1:], labels=labels[1:], loc = 4)\n",
    "\n",
    "plt.title('retweet_count v. favorite_count \\n between video and photo', fontweight = 'bold')\n",
    "plt.xlabel('number of \"likes\"');\n",
    "plt.ylabel('number of retweets');\n",
    "plt.show()"
   ]
  },
  {
   "cell_type": "markdown",
   "metadata": {},
   "source": [
    "## Part II - Sentiment Analysis of `@dog_rates` tweets"
   ]
  },
  {
   "cell_type": "markdown",
   "metadata": {},
   "source": [
    "Now that we have explored basic characteristics of the dataset, let's perform sentiment analysis on the @dog_rates tweets."
   ]
  },
  {
   "cell_type": "code",
   "execution_count": 123,
   "metadata": {},
   "outputs": [],
   "source": [
    "#delete rating and url from text\n",
    "pattern = re.compile('http[s]?://(?:[a-zA-Z]|[0-9]|[$-_@.&+]|[!*\\(\\),]|(?:%[0-9a-fA-F][0-9a-fA-F]))+')\n",
    "twitter_data['text'] = [pattern.sub('', tweet) for tweet in twitter_data['text']]\n",
    "twitter_data['text'] = twitter_data['text'].str.replace(r'((?:\\d+\\.)?\\d+)\\/(\\d+)', '')\n",
    "\n",
    "#trim text\n",
    "twitter_data['text'] = twitter_data['text'].str.lstrip().str.rstrip()"
   ]
  },
  {
   "cell_type": "code",
   "execution_count": 124,
   "metadata": {},
   "outputs": [],
   "source": [
    "twitter_mask = np.array(Image.open(\"twitter_logo.png\"))"
   ]
  },
  {
   "cell_type": "code",
   "execution_count": 125,
   "metadata": {},
   "outputs": [],
   "source": [
    "def transform_format(val):\n",
    "    if val == 0:\n",
    "        return 255\n",
    "    else:\n",
    "        return val"
   ]
  },
  {
   "cell_type": "code",
   "execution_count": 126,
   "metadata": {},
   "outputs": [],
   "source": [
    "#create new mask that can be used with function defined above\n",
    "transformed_twitter_mask = np.ndarray((twitter_mask.shape[0],twitter_mask.shape[1]), np.int32)\n",
    "\n",
    "for i in range(len(twitter_mask)):\n",
    "    transformed_twitter_mask[i] = list(map(transform_format, twitter_mask[i]))"
   ]
  },
  {
   "cell_type": "code",
   "execution_count": 127,
   "metadata": {},
   "outputs": [],
   "source": [
    "stopwords = set(STOPWORDS)\n",
    "\n",
    "#create & generate wordcloud image\n",
    "wc = WordCloud(background_color=\"white\", mask=transformed_twitter_mask,\n",
    "               stopwords=stopwords, contour_width=2, contour_color='#00acee')\n",
    "wc = wc.generate(' '.join(twitter_data['text']))"
   ]
  },
  {
   "cell_type": "code",
   "execution_count": 128,
   "metadata": {},
   "outputs": [
    {
     "data": {
      "image/png": "[encoded data removed]",
      "text/plain": [
       "<Figure size 1440x720 with 1 Axes>"
      ]
     },
     "metadata": {
      "needs_background": "light"
     },
     "output_type": "display_data"
    }
   ],
   "source": [
    "#show wordcloud\n",
    "plt.figure(figsize=[20,10])\n",
    "plt.imshow(wc, interpolation='bilinear')\n",
    "plt.axis(\"off\")\n",
    "plt.show()"
   ]
  },
  {
   "cell_type": "code",
   "execution_count": 129,
   "metadata": {},
   "outputs": [],
   "source": [
    "#store word cloud in .png file\n",
    "wc.to_file \\\n",
    "(\"dog_rates_wordcloud.png\");"
   ]
  },
  {
   "cell_type": "markdown",
   "metadata": {},
   "source": [
    "We see from the wordcloud that the tweets use positive terms to describe the dogs: 'love', 'happy', 'great', 'hug', 'well', 'enjoy' to name a few. Now that we have performed basic text analysis on the `text` column of the dataset, let's dive deeper by classifying the sentiments associated with each tweet. We'll first attribute a sentiment classification score for each tweet using the Natural Language Toolkit (nltk) library and we'll then attribute categories ('Negative', 'Neutral', 'Positive') to the sentiment intensity scores based on a range. We use a compound score, which is a unidimensional normalized and weighted measure of sentiment. See [here](https://github.com/cjhutto/vaderSentiment) for more information on the way that it's calculated."
   ]
  },
  {
   "cell_type": "code",
   "execution_count": 130,
   "metadata": {},
   "outputs": [],
   "source": [
    "def sentiment_value(paragraph):\n",
    "    analyser = SentimentIntensityAnalyzer()\n",
    "    result = analyser.polarity_scores(paragraph)\n",
    "    score = result['compound']\n",
    "    return round(score,2)"
   ]
  },
  {
   "cell_type": "code",
   "execution_count": 131,
   "metadata": {},
   "outputs": [],
   "source": [
    "#create new column with associated sentiment intensity score\n",
    "twitter_data['sentiment_value'] = [sentiment_value(text) for text in twitter_data['text']]"
   ]
  },
  {
   "cell_type": "code",
   "execution_count": 132,
   "metadata": {},
   "outputs": [],
   "source": [
    "#categorize sentiment types on a scale of -1 (very negative) to 1 (very positive)\n",
    "sentiment = []\n",
    "\n",
    "for sentiment_value in twitter_data['sentiment_value']:\n",
    "    if (sentiment_value<=1 and sentiment_value>=0.5):\n",
    "        sentiment.append('Very Positive')\n",
    "    elif (sentiment_value<0.5 and sentiment_value>0):\n",
    "        sentiment.append('Positive')\n",
    "    elif (sentiment_value==0):\n",
    "        sentiment.append('Neutral')\n",
    "    elif (sentiment_value<0 and sentiment_value>=-0.5):\n",
    "        sentiment.append('Negative')\n",
    "    else:\n",
    "        sentiment.append('Very Negative')"
   ]
  },
  {
   "cell_type": "code",
   "execution_count": 133,
   "metadata": {},
   "outputs": [],
   "source": [
    "twitter_data['sentiment'] = sentiment"
   ]
  },
  {
   "cell_type": "code",
   "execution_count": 134,
   "metadata": {},
   "outputs": [
    {
     "data": {
      "text/plain": [
       "Very Positive    0.290388\n",
       "Positive         0.251132\n",
       "Neutral          0.183694\n",
       "Negative         0.183191\n",
       "Very Negative    0.091595\n",
       "Name: sentiment, dtype: float64"
      ]
     },
     "execution_count": 134,
     "metadata": {},
     "output_type": "execute_result"
    }
   ],
   "source": [
    "twitter_mask = twitter_data.sentiment.value_counts(normalize \n",
    "                                                   = True).reindex(['Very Positive', \n",
    "                                                                    'Positive','Neutral', 'Negative','Very Negative'])\n",
    "twitter_mask"
   ]
  },
  {
   "cell_type": "code",
   "execution_count": 135,
   "metadata": {},
   "outputs": [
    {
     "data": {
      "image/png": "[encoded data removed]",
      "text/plain": [
       "<Figure size 432x288 with 1 Axes>"
      ]
     },
     "metadata": {
      "needs_background": "light"
     },
     "output_type": "display_data"
    }
   ],
   "source": [
    "sns.barplot(twitter_mask.index, twitter_mask.values, alpha=0.8, \n",
    "            color = '#00acee')\n",
    "plt.title('sentiment classification of @dog_rates tweets')\n",
    "plt.ylabel('percentage of occurrences', fontsize=12)\n",
    "plt.xlabel('sentiment categories', fontsize=12)\n",
    "plt.show();"
   ]
  },
  {
   "cell_type": "markdown",
   "metadata": {},
   "source": [
    "Not surprisingly, there seems to be a higher percentage of tweets conveying a 'very positive' sentiment. I'm still surprised to see that 18% and 9% of tweets convey 'negative' and 'very negative' sentiments, respectively. To answer our original question about tweet popularity, let's do some analysis to see what tweets are more popular based on the sentiment conveyed in the message."
   ]
  },
  {
   "cell_type": "code",
   "execution_count": 136,
   "metadata": {},
   "outputs": [
    {
     "data": {
      "image/png": "[encoded data removed]",
      "text/plain": [
       "<Figure size 432x288 with 2 Axes>"
      ]
     },
     "metadata": {
      "needs_background": "light"
     },
     "output_type": "display_data"
    }
   ],
   "source": [
    "twitter_sentiment_mask = twitter_data.groupby('sentiment')['retweet_count','favorite_count'].sum().apply(lambda x:\n",
    "                                                 100* x / float(x.sum()))\n",
    "\n",
    "twitter_sentiment_mask = twitter_sentiment_mask.reindex(['Very Positive', 'Positive','Neutral',\n",
    "                                                         'Negative','Very Negative'])\n",
    "fig, ax = plt.subplots(1,1)\n",
    "ax = sns.heatmap(twitter_sentiment_mask, annot = twitter_sentiment_mask.values, fmt = '.2f', cmap = 'RdPu')\n",
    "\n",
    "for t in ax.texts: \n",
    "    t.set_text(t.get_text() + \"%\")\n",
    "\n",
    "plt.show()"
   ]
  },
  {
   "cell_type": "markdown",
   "metadata": {},
   "source": [
    "From the heatmap above, we see that the more positive the tweet language is, the more it will be liked or retweeted."
   ]
  },
  {
   "cell_type": "markdown",
   "metadata": {},
   "source": [
    "<a id='conclusion'></a>\n",
    "## Conclusion"
   ]
  },
  {
   "cell_type": "markdown",
   "metadata": {},
   "source": [
    "After wrangling the datasets containing information about the @WeRateDogs account, we proceeded to performing Exploratory Data Analysis to uncover certain insights. We found out that:\n",
    "1. There's a strong positive correlation between \"likes\" and retweets (correlation coefficient: 0.93). The more \"likes\" a photo or a video receives, the more retweets the photo or video will get.\n",
    "2. Videos are more popular than photos: they get 2.64 more likes than photos and 3.86 more retweets.\n",
    "3. Using sentiment analysis tools, we are able to confirm that the more positive a tweet language is, the more popular it is."
   ]
  }
 ],
 "metadata": {
  "kernelspec": {
   "display_name": "Python 3",
   "language": "python",
   "name": "python3"
  },
  "language_info": {
   "codemirror_mode": {
    "name": "ipython",
    "version": 3
   },
   "file_extension": ".py",
   "mimetype": "text/x-python",
   "name": "python",
   "nbconvert_exporter": "python",
   "pygments_lexer": "ipython3",
   "version": "3.7.6"
  }
 },
 "nbformat": 4,
 "nbformat_minor": 2
}
